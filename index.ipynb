{
 "cells": [
  {
   "cell_type": "code",
   "execution_count": 1,
   "metadata": {},
   "outputs": [
    {
     "name": "stdout",
     "output_type": "stream",
     "text": [
      "Chocolate\n",
      "Joe's total is 15.96\n",
      "Vanilla\n",
      "Eric's total is 35.88\n",
      "Chocolate\n",
      "Tyler's total is 23.94\n",
      "Vanilla\n",
      "Riley's total is 5.98\n",
      "Chocolate\n",
      "Brittany's total is 99.50\n",
      "Strawberry\n",
      "Jimmy's total is 39.92\n",
      "Strawberry\n",
      "Jeff's total is 59.88\n",
      "Chocolate\n",
      "Amy's total is 47.88\n",
      "Strawberry\n",
      "Karl's total is 4.99\n",
      "Vanilla\n",
      "Sally's total is 299.00\n",
      "Chocolate\n",
      "Ron's total is 39.90\n",
      "Strawberry\n",
      "Daniel's total is 19.95\n",
      "Vanilla\n",
      "Catherine's total is 29.80\n",
      "Strawberry\n",
      "Sharleen's total is 19.96\n",
      "Chocolate\n",
      "Richard's total is 7.98\n",
      "Strawberry\n",
      "Jenny's total is 4.99\n",
      "Chocolate\n",
      "Kevin's total is 19.95\n",
      "Chocolate\n",
      "Barry's total is 8.00\n",
      "Vanilla\n",
      "Jayna's total is 17.94\n",
      "Chocolate\n",
      "Laura's total is 3.99\n",
      "Strawberry\n",
      "Lynn's total is 10.00\n",
      "815.39\n"
     ]
    }
   ],
   "source": [
    "#%%\n",
    "\n",
    "open_file = open('CupcakeInvoices.csv')\n",
    "\n",
    "# for row in open_file:\n",
    "#     print(row)\n",
    "\n",
    "# for cupcake in open_file:\n",
    "#     cupcake = cupcake.split(',')\n",
    "#     print(cupcake[2])\n",
    "\n",
    "grand_total = 0\n",
    "for row in open_file:\n",
    "    row = row.split(',')\n",
    "    print(row[2])\n",
    "    quantity = int(row[3])\n",
    "    price = float(row[4].rstrip('/r/n'))\n",
    "    total = quantity * price\n",
    "    decimal_limit = \"{:.2f}\".format(total)\n",
    "    print(row[0] + \"'s total is \" + str(decimal_limit))\n",
    "    grand_total += total\n",
    "grand_total = \"{:.2f}\".format(grand_total)\n",
    "print(grand_total)\n",
    "\n",
    "open_file.close()"
   ]
  }
 ],
 "metadata": {
  "interpreter": {
   "hash": "7e1998ff7f8aa20ada591c520b972326324e5ea05489af9e422744c7c09f6dad"
  },
  "kernelspec": {
   "display_name": "Python 3.10.2 64-bit",
   "language": "python",
   "name": "python3"
  },
  "language_info": {
   "codemirror_mode": {
    "name": "ipython",
    "version": 3
   },
   "file_extension": ".py",
   "mimetype": "text/x-python",
   "name": "python",
   "nbconvert_exporter": "python",
   "pygments_lexer": "ipython3",
   "version": "3.10.2"
  },
  "orig_nbformat": 4
 },
 "nbformat": 4,
 "nbformat_minor": 2
}
